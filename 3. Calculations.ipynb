{
 "cells": [
  {
   "cell_type": "markdown",
   "metadata": {},
   "source": [
    "### Examles"
   ]
  },
  {
   "cell_type": "code",
   "execution_count": 5,
   "metadata": {},
   "outputs": [
    {
     "name": "stdout",
     "output_type": "stream",
     "text": [
      "1 -1\n"
     ]
    }
   ],
   "source": [
    "print(int(1.7), int(-1.7))"
   ]
  },
  {
   "cell_type": "code",
   "execution_count": 6,
   "metadata": {},
   "outputs": [
    {
     "name": "stdout",
     "output_type": "stream",
     "text": [
      "5 5\n"
     ]
    }
   ],
   "source": [
    "import math\n",
    "\n",
    "print(math.ceil(4.2), math.ceil(4.8))\n"
   ]
  },
  {
   "cell_type": "code",
   "execution_count": 7,
   "metadata": {},
   "outputs": [
    {
     "name": "stdout",
     "output_type": "stream",
     "text": [
      "5 5\n"
     ]
    }
   ],
   "source": [
    "from math import ceil\n",
    "\n",
    "print(ceil(4.2), ceil(4.8))"
   ]
  },
  {
   "cell_type": "code",
   "execution_count": 8,
   "metadata": {},
   "outputs": [
    {
     "name": "stdout",
     "output_type": "stream",
     "text": [
      "4\n"
     ]
    }
   ],
   "source": [
    "from math import *\n",
    "\n",
    "x = 7 / 2\n",
    "print(ceil(x))"
   ]
  },
  {
   "cell_type": "markdown",
   "metadata": {},
   "source": [
    "### Tasks\n"
   ]
  },
  {
   "cell_type": "markdown",
   "metadata": {},
   "source": [
    "#### 1. \"Последняя цифра числа\". Дано натуральное число. Выведите его последнюю цифру."
   ]
  },
  {
   "cell_type": "code",
   "execution_count": 9,
   "metadata": {},
   "outputs": [
    {
     "name": "stdout",
     "output_type": "stream",
     "text": [
      "179\n",
      "last digit = 9\n"
     ]
    }
   ],
   "source": [
    "x = int(input())\n",
    "\n",
    "print(\"last digit =\", x % 10)"
   ]
  },
  {
   "cell_type": "markdown",
   "metadata": {},
   "source": [
    "#### 2. \"МКАД\". Длина Московской кольцевой автомобильной дороги - 109 км. Байкер Вася стартует с нулевого километра МКАД и едет со скоростью *v* км/ч. На какой отметке он остановится через *t* часов? \n",
    "\n",
    "#### Программа получает на вход значения *v* и *t*. Если *v* > 0, то Вася движется в положиельном направлении по МКАД, есди же *v* < 0, то в отрицательном. \n",
    "\n",
    "#### Программа должна вывести целое число от 0 до 108 - номер отметки, на которой остановится Вася."
   ]
  },
  {
   "cell_type": "code",
   "execution_count": 21,
   "metadata": {},
   "outputs": [
    {
     "name": "stdout",
     "output_type": "stream",
     "text": [
      "-1\n",
      "1\n",
      "108\n"
     ]
    }
   ],
   "source": [
    "from math import ceil\n",
    "\n",
    "v = int(input())\n",
    "t = int(input())\n",
    "ring_length = 109\n",
    "\n",
    "if v > 0:\n",
    "    if v * t % ring_length == 0:\n",
    "        point = 0\n",
    "    else:\n",
    "        point = (v * t) % ring_length\n",
    "else:\n",
    "    if abs((v * t) % ring_length) == 0:\n",
    "        point = 0\n",
    "    elif abs((v * t) % ring_length) != 0:\n",
    "        point = ceil(((v * t) / ring_length - (v * t) // ring_length) * ring_length)\n",
    "    else:\n",
    "        point = ring_length - abs(v * t)\n",
    "\n",
    "print(point)"
   ]
  },
  {
   "cell_type": "markdown",
   "metadata": {},
   "source": [
    "#### 3. \"Дробная часть\". Дано положительное число x. Выведите его дробную часть."
   ]
  },
  {
   "cell_type": "code",
   "execution_count": 8,
   "metadata": {},
   "outputs": [
    {
     "name": "stdout",
     "output_type": "stream",
     "text": [
      "17.9\n",
      "0.9\n"
     ]
    }
   ],
   "source": [
    "from math import floor, ceil\n",
    "\n",
    "x = float(input())\n",
    "\n",
    "frac = x - int(x)\n",
    "\n",
    "print(round(frac, 3))"
   ]
  },
  {
   "cell_type": "markdown",
   "metadata": {},
   "source": [
    "#### 4. \"Первая цифра после точки\". Дано положительное действительное число x. Выведите его первую цифру после десятичной точки."
   ]
  },
  {
   "cell_type": "code",
   "execution_count": 20,
   "metadata": {},
   "outputs": [
    {
     "name": "stdout",
     "output_type": "stream",
     "text": [
      "312.19999\n",
      "1\n"
     ]
    }
   ],
   "source": [
    "import math\n",
    "\n",
    "x = float(input())\n",
    "\n",
    "first_num = math.floor((x - int(x)) * 10)\n",
    "\n",
    "print(first_num)"
   ]
  },
  {
   "cell_type": "markdown",
   "metadata": {},
   "source": [
    "#### 5. \"Конец уроков\". В некоторой школе занятия начинаются в 9:00. Продолжительность урока - 45 минут. После 1-го, 3-го, 5-го и т.д. уроков перемена 5 минут, а после 2-го, 4-го, 6-го и т.д. - 15 минут. \n",
    "#### Дан номер урока (число от 1 до 10). Определите, когда заканчивается указанный урок. Выведите два целых числа: время окончания урока в часах и минутах."
   ]
  },
  {
   "cell_type": "code",
   "execution_count": null,
   "metadata": {},
   "outputs": [],
   "source": [
    "# пока не решена\n",
    "lesson_num = int(input())\n",
    "\n",
    "\n",
    "if lesson_num % 2 != 0:\n",
    "    h = 9 + (45 * lesson_num) // 60\n",
    "    m = ((45 * lesson_num) / 60 - (45 * lesson_num) // 60) * 60 + 10\n",
    "else:\n",
    "    h = 9 + (45 * lesson_num) // 60\n",
    "    m = ((45 * lesson_num) / 60 - (45 * lesson_num) // 60) * 60 + 5\n",
    "\n",
    "print(h, \":\", m)\n",
    "     "
   ]
  },
  {
   "cell_type": "markdown",
   "metadata": {},
   "source": [
    "#### 6. \"Автопробег\". За день машина проезжает n километров. Сколько дней нужно, чтобы проехать маршрут длиной m километров? Программа получает на вход числа *n* и *m*. "
   ]
  },
  {
   "cell_type": "code",
   "execution_count": 1,
   "metadata": {},
   "outputs": [
    {
     "name": "stdout",
     "output_type": "stream",
     "text": [
      "483\n",
      "9382\n",
      "there are 20 days needed\n"
     ]
    }
   ],
   "source": [
    "from math import ceil\n",
    "\n",
    "n = int(input())\n",
    "m = int(input())\n",
    "\n",
    "days = ceil(m / n)\n",
    "\n",
    "print(\"there are\", days, \"days needed\")"
   ]
  },
  {
   "cell_type": "markdown",
   "metadata": {},
   "source": [
    "#### 7. \"Стоимость покупки\". Пирожок в столовой стоит *a* рублей и *b* копеек. Определите, сколько рублей и копеек нужно запралить за *n* пирожков. Программа получает на вход три числа: *a, b, n*, и должна вывести два числа: стоимость покупки в рублях и копейках."
   ]
  },
  {
   "cell_type": "code",
   "execution_count": 2,
   "metadata": {},
   "outputs": [
    {
     "name": "stdout",
     "output_type": "stream",
     "text": [
      "1886\n",
      "73\n",
      "295\n",
      "556585 rub, 35 penny\n"
     ]
    }
   ],
   "source": [
    "a = int(input())\n",
    "b = int(input())\n",
    "n = int(input())\n",
    "\n",
    "rub = a * n + (b * n) // 100\n",
    "penny = round(((b * n) / 100 - (b * n) // 100) * 100)\n",
    "\n",
    "print(rub, \"rub,\", penny, \"penny\")"
   ]
  },
  {
   "cell_type": "markdown",
   "metadata": {},
   "source": [
    "#### 8. \"Разность времен\". Даны значения двух моментов времени, принадлежащих одним и тем же суткам: часы, минуты и секунды для каждого из моментов времени. Известно, что второй момент времени наступил не раньше первого. Определите, сколько секунд прошло между двумя моментами времени.\n",
    "#### Программа на вход получает три целых числа (часы, минуты, секунды), задающие первый момент времени и три целых числа, задающие второй момент времени. Выведите число секунд между этими моментами."
   ]
  },
  {
   "cell_type": "code",
   "execution_count": 3,
   "metadata": {},
   "outputs": [
    {
     "name": "stdout",
     "output_type": "stream",
     "text": [
      "1\n",
      "49\n",
      "28\n",
      "14\n",
      "7\n",
      "55\n",
      "difference = 44307\n"
     ]
    }
   ],
   "source": [
    "fh = int(input())\n",
    "fm = int(input())\n",
    "fs = int(input())\n",
    "sh = int(input())\n",
    "sm = int(input())\n",
    "ss = int(input())\n",
    "\n",
    "total_seconds1 = fh * 3600 + fm * 60 + fs\n",
    "total_seconds2 = sh * 3600 + sm * 60 + ss\n",
    "\n",
    "difference = total_seconds2 - total_seconds1\n",
    "\n",
    "print(\"difference =\", difference)"
   ]
  },
  {
   "cell_type": "markdown",
   "metadata": {},
   "source": [
    "#### 9. \"Улитка\". Улитка ползет по вертикальному шесту высотой *h* метров, поднимаясь за день на *a* метров, а за ночь спускаясь на *b* метров. На какой день улитка доползет до вершины шеста?\n",
    "\n",
    "#### Программа получает на вход натуральные числа *h, a, b*. Программа должна вывести одно натуральное число. Гарантируется, что *a > b*."
   ]
  },
  {
   "cell_type": "code",
   "execution_count": 5,
   "metadata": {},
   "outputs": [
    {
     "name": "stdout",
     "output_type": "stream",
     "text": [
      "20\n",
      "5\n",
      "4\n",
      "day = 16\n"
     ]
    }
   ],
   "source": [
    "from math import ceil\n",
    "\n",
    "h = int(input())\n",
    "a = int(input())\n",
    "b = int(input())\n",
    "\n",
    "day = ceil((h - a) / (a - b))\n",
    "\n",
    "if h - day * (a - b) <= a:\n",
    "    day +=1\n",
    "\n",
    "print(\"day =\", day)"
   ]
  },
  {
   "cell_type": "markdown",
   "metadata": {},
   "source": [
    "#### 10. \"Число десятков\". Дано натуральное число. Найдите число десятков в его десятичной записи."
   ]
  },
  {
   "cell_type": "code",
   "execution_count": 7,
   "metadata": {},
   "outputs": [
    {
     "name": "stdout",
     "output_type": "stream",
     "text": [
      "179\n",
      "tens number = 7\n"
     ]
    }
   ],
   "source": [
    "n = int(input())\n",
    "\n",
    "d = (n % 100) // 10\n",
    "\n",
    "print(\"tens number =\", d)"
   ]
  },
  {
   "cell_type": "markdown",
   "metadata": {},
   "source": [
    "#### 11. \"Сумма цифр\". Дано трехзначное число. Найдите сумму его цифр."
   ]
  },
  {
   "cell_type": "code",
   "execution_count": null,
   "metadata": {},
   "outputs": [],
   "source": [
    "n = int(input())\n",
    "\n",
    "a = n % 10\n",
    "b = (n % 100) // 10\n",
    "c = n // 100\n",
    "\n",
    "result = a + b + c\n",
    "\n",
    "print(\"result =\", result)"
   ]
  },
  {
   "cell_type": "markdown",
   "metadata": {},
   "source": [
    "#### 12. \"Гипотенуза\". Дано два числа *a* и *b*. Выведите гипотенузу треугольника с заданными катетами. "
   ]
  },
  {
   "cell_type": "code",
   "execution_count": 1,
   "metadata": {},
   "outputs": [
    {
     "name": "stdout",
     "output_type": "stream",
     "text": [
      "179\n",
      "971\n",
      "987.361129475938\n"
     ]
    }
   ],
   "source": [
    "from math import sqrt\n",
    "\n",
    "a = int(input())\n",
    "b = int(input())\n",
    "\n",
    "c = sqrt(a ** 2 + b ** 2)\n",
    "\n",
    "print(c)"
   ]
  },
  {
   "cell_type": "markdown",
   "metadata": {},
   "source": [
    "#### 13. \"Часы - 1\". С начала суток прошло H часов, M минут, S секунд (0 <= H <= 12, 0 <= M, S <= 60, 0 <= S <= 60). По данным числам H, M, S определите угол (в градусах), на котрый повернулась часовая стрелка с начала суток и выведите его в виде действительного числа. "
   ]
  },
  {
   "cell_type": "code",
   "execution_count": 3,
   "metadata": {},
   "outputs": [
    {
     "name": "stdout",
     "output_type": "stream",
     "text": [
      "6\n",
      "19\n",
      "60\n",
      "angle = 190.0\n"
     ]
    }
   ],
   "source": [
    "H = int(input())\n",
    "M = int(input())\n",
    "S = int(input())\n",
    "\n",
    "circle = 360\n",
    "hours = 12\n",
    "minutes_in_hour = 60\n",
    "seconds_in_minute = 60\n",
    "\n",
    "# какой угол составляет один час\n",
    "H_angle = circle / hours\n",
    "# какой угол составляет одна минута\n",
    "M_angle = H_angle / minutes_in_hour\n",
    "# какой угол составляет одна секунда\n",
    "S_angle = M_angle / seconds_in_minute\n",
    "\n",
    "angle = H * H_angle + M * M_angle + S * S_angle\n",
    "\n",
    "print(\"angle =\", round(angle, 3))"
   ]
  },
  {
   "cell_type": "markdown",
   "metadata": {},
   "source": [
    "#### 14. \"Часы - 2\". С начала суток часовая стрелка повернулась на угол в α градусов. Определите на какой угол повернулась минутная стрелка с начала последнего часа. Входные и выходные данные - действительные числа."
   ]
  },
  {
   "cell_type": "code",
   "execution_count": 6,
   "metadata": {},
   "outputs": [
    {
     "name": "stdout",
     "output_type": "stream",
     "text": [
      "29\n",
      "angle = 348.0\n"
     ]
    }
   ],
   "source": [
    "alpha = float(input())\n",
    "\n",
    "circle = 360\n",
    "minutes_in_hour = 60\n",
    "angle_in_hour = 30\n",
    "angle_in_minute = 0.5\n",
    "angle_in_second = 0.5 / 60\n",
    "\n",
    "# сколько прошло часов\n",
    "hours = alpha // angle_in_hour\n",
    "# сколько прошло минут после последнего часа\n",
    "minutes_past_hour = minutes_in_hour * (alpha / angle_in_hour - hours)\n",
    "# какую часть круга в градусах занимает пройденное минутной стрелкой расстояние\n",
    "minutes_angle = circle * (minutes_past_hour / minutes_in_hour)\n",
    "\n",
    "print(\"angle =\", round(minutes_angle, 4))"
   ]
  }
 ],
 "metadata": {
  "kernelspec": {
   "display_name": "Python 3",
   "language": "python",
   "name": "python3"
  },
  "language_info": {
   "codemirror_mode": {
    "name": "ipython",
    "version": 3
   },
   "file_extension": ".py",
   "mimetype": "text/x-python",
   "name": "python",
   "nbconvert_exporter": "python",
   "pygments_lexer": "ipython3",
   "version": "3.7.4"
  }
 },
 "nbformat": 4,
 "nbformat_minor": 2
}
