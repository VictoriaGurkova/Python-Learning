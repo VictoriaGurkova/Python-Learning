{
 "cells": [
  {
   "cell_type": "markdown",
   "metadata": {},
   "source": [
    "### Examles"
   ]
  },
  {
   "cell_type": "code",
   "execution_count": 5,
   "metadata": {},
   "outputs": [
    {
     "name": "stdout",
     "output_type": "stream",
     "text": [
      "1 -1\n"
     ]
    }
   ],
   "source": [
    "print(int(1.7), int(-1.7))"
   ]
  },
  {
   "cell_type": "code",
   "execution_count": 6,
   "metadata": {},
   "outputs": [
    {
     "name": "stdout",
     "output_type": "stream",
     "text": [
      "5 5\n"
     ]
    }
   ],
   "source": [
    "import math\n",
    "\n",
    "print(math.ceil(4.2), math.ceil(4.8))\n"
   ]
  },
  {
   "cell_type": "code",
   "execution_count": 7,
   "metadata": {},
   "outputs": [
    {
     "name": "stdout",
     "output_type": "stream",
     "text": [
      "5 5\n"
     ]
    }
   ],
   "source": [
    "from math import ceil\n",
    "\n",
    "print(ceil(4.2), ceil(4.8))"
   ]
  },
  {
   "cell_type": "code",
   "execution_count": 8,
   "metadata": {},
   "outputs": [
    {
     "name": "stdout",
     "output_type": "stream",
     "text": [
      "4\n"
     ]
    }
   ],
   "source": [
    "from math import *\n",
    "\n",
    "x = 7 / 2\n",
    "print(ceil(x))"
   ]
  },
  {
   "cell_type": "markdown",
   "metadata": {},
   "source": [
    "### Tasks\n"
   ]
  },
  {
   "cell_type": "markdown",
   "metadata": {},
   "source": [
    "#### 1. \"Последняя цифра числа\". Дано натуральное число. Выведите его последнюю цифру."
   ]
  },
  {
   "cell_type": "code",
   "execution_count": 9,
   "metadata": {},
   "outputs": [
    {
     "name": "stdout",
     "output_type": "stream",
     "text": [
      "179\n",
      "last digit = 9\n"
     ]
    }
   ],
   "source": [
    "x = int(input())\n",
    "\n",
    "print(\"last digit =\", x % 10)"
   ]
  },
  {
   "cell_type": "markdown",
   "metadata": {},
   "source": [
    "#### 2. \"МКАД\". Длина Московской кольцевой автомобильной дороги - 109 км. Байкер Вася стартует с нулевого километра МКАД и едет со скоростью *v* км/ч. На какой отметке он остановится через *t* часов? \n",
    "\n",
    "#### Программа получает на вход значения *v* и *t*. Если *v* > 0, то Вася движется в положиельном направлении по МКАД, есди же *v* < 0, то в отрицательном. \n",
    "\n",
    "#### Программа должна вывести целое число от 0 до 108 - номер отметки, на которой остановится Вася."
   ]
  },
  {
   "cell_type": "code",
   "execution_count": 9,
   "metadata": {},
   "outputs": [
    {
     "name": "stdout",
     "output_type": "stream",
     "text": [
      "-1\n",
      "1\n",
      "108\n"
     ]
    }
   ],
   "source": [
    "from math import ceil\n",
    "\n",
    "v = int(input())\n",
    "t = int(input())\n",
    "ring_length = 109\n",
    "\n",
    "if v > 0:\n",
    "    if v * t % ring_length == 0:\n",
    "        S = 0\n",
    "    else:\n",
    "        S = (v * t) % ring_length\n",
    "else:\n",
    "    if abs((v * t) % ring_length) == 0:\n",
    "        S = 0\n",
    "    elif abs((v * t) % ring_length) != 0:\n",
    "        S = ceil(((v * t) / ring_length - (v * t) // ring_length) * ring_length)\n",
    "    else:\n",
    "        S = ring_length - abs(v * t)\n",
    "\n",
    "print(S)"
   ]
  },
  {
   "cell_type": "markdown",
   "metadata": {},
   "source": [
    "#### 4. \"Дробная часть\". Дано положительное число x. Выведите его дробную часть."
   ]
  },
  {
   "cell_type": "code",
   "execution_count": 8,
   "metadata": {},
   "outputs": [
    {
     "name": "stdout",
     "output_type": "stream",
     "text": [
      "17.9\n",
      "0.9\n"
     ]
    }
   ],
   "source": [
    "from math import floor, ceil\n",
    "\n",
    "x = float(input())\n",
    "\n",
    "frac = x - int(x)\n",
    "\n",
    "print(round(frac, 3))"
   ]
  },
  {
   "cell_type": "markdown",
   "metadata": {},
   "source": [
    "#### 5. \"Первая цифра после точки\". Дано положительное действительное число x. Выведите его первую цифру после десятичной точки."
   ]
  },
  {
   "cell_type": "code",
   "execution_count": 20,
   "metadata": {},
   "outputs": [
    {
     "name": "stdout",
     "output_type": "stream",
     "text": [
      "312.19999\n",
      "1\n"
     ]
    }
   ],
   "source": [
    "import math\n",
    "\n",
    "x = float(input())\n",
    "\n",
    "first_num = math.floor((x - int(x)) * 10)\n",
    "\n",
    "print(first_num)"
   ]
  }
 ],
 "metadata": {
  "kernelspec": {
   "display_name": "Python 3",
   "language": "python",
   "name": "python3"
  },
  "language_info": {
   "codemirror_mode": {
    "name": "ipython",
    "version": 3
   },
   "file_extension": ".py",
   "mimetype": "text/x-python",
   "name": "python",
   "nbconvert_exporter": "python",
   "pygments_lexer": "ipython3",
   "version": "3.7.4"
  }
 },
 "nbformat": 4,
 "nbformat_minor": 2
}
