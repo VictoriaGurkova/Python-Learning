{
 "cells": [
  {
   "cell_type": "markdown",
   "metadata": {},
   "source": [
    "### Examples"
   ]
  },
  {
   "cell_type": "code",
   "execution_count": 3,
   "metadata": {},
   "outputs": [
    {
     "name": "stdout",
     "output_type": "stream",
     "text": [
      "-1\n",
      "1\n"
     ]
    }
   ],
   "source": [
    "# модуль числа\n",
    "x = int(input())\n",
    "\n",
    "if x > 0:\n",
    "    print(x)\n",
    "else:\n",
    "    print(-x)"
   ]
  },
  {
   "cell_type": "code",
   "execution_count": 5,
   "metadata": {},
   "outputs": [
    {
     "name": "stdout",
     "output_type": "stream",
     "text": [
      "-1\n",
      "1\n"
     ]
    }
   ],
   "source": [
    "x = int(input())\n",
    "\n",
    "if x < 0:\n",
    "    x = -x\n",
    "print(x)"
   ]
  },
  {
   "cell_type": "code",
   "execution_count": 9,
   "metadata": {},
   "outputs": [
    {
     "name": "stdout",
     "output_type": "stream",
     "text": [
      "-1\n",
      "1\n",
      "Second quarter\n"
     ]
    }
   ],
   "source": [
    "# определение четверти, в которой находится точка на координатной плоскости\n",
    "x = int(input())\n",
    "y = int(input())\n",
    "\n",
    "if x > 0:\n",
    "    if y > 0:\n",
    "        print(\"First quarter\")\n",
    "    else:\n",
    "        print(\"Fourth quarter\")\n",
    "else:\n",
    "    if y > 0:\n",
    "        print(\"Second quarter\")\n",
    "    else:\n",
    "        print(\"Third quarter\")"
   ]
  },
  {
   "cell_type": "code",
   "execution_count": 13,
   "metadata": {},
   "outputs": [
    {
     "name": "stdout",
     "output_type": "stream",
     "text": [
      "-1\n",
      "1\n",
      "Second quarter\n"
     ]
    }
   ],
   "source": [
    "x = int(input())\n",
    "y = int(input())\n",
    "\n",
    "if x > 0 and y > 0:\n",
    "    print(\"First quarter\")\n",
    "elif x > 0 and y < 0:\n",
    "    print(\"Fourth quarter\")\n",
    "elif y > 0:\n",
    "    print(\"Second quarter\")\n",
    "else:\n",
    "    print(\"Third quarter\")"
   ]
  },
  {
   "cell_type": "markdown",
   "metadata": {},
   "source": [
    "### Tasks\n"
   ]
  },
  {
   "cell_type": "markdown",
   "metadata": {},
   "source": [
    "#### 1. \"Минимум из двух чисел\". Даны два целых числа. Выведите значение наименьшего из них."
   ]
  },
  {
   "cell_type": "code",
   "execution_count": 16,
   "metadata": {},
   "outputs": [
    {
     "name": "stdout",
     "output_type": "stream",
     "text": [
      "3\n",
      "7\n",
      "Smallest number is 3\n"
     ]
    }
   ],
   "source": [
    "a = int(input())\n",
    "b = int(input())\n",
    "\n",
    "if a < b:\n",
    "    print(\"Smallest number is\", a)\n",
    "else:\n",
    "    print(\"Smallest number is\", b)"
   ]
  },
  {
   "cell_type": "markdown",
   "metadata": {},
   "source": [
    "#### 2. \"Знак числа\". Для данного числа x выведите значение `sign(x)`. Эту задачу желательно решить с использованием каскадных инструкций `if...elif...else`."
   ]
  },
  {
   "cell_type": "code",
   "execution_count": 22,
   "metadata": {},
   "outputs": [
    {
     "name": "stdout",
     "output_type": "stream",
     "text": [
      "-5\n",
      "sign x = -1\n"
     ]
    }
   ],
   "source": [
    "x = int(input())\n",
    "\n",
    "if x > 0:\n",
    "    print(\"sign x =\", 1)\n",
    "elif x < 0:\n",
    "    print(\"sign x =\", -1)\n",
    "else:\n",
    "    print(\"sign x =\", 0)"
   ]
  },
  {
   "cell_type": "markdown",
   "metadata": {},
   "source": [
    "#### 3. \"Шахматная доска\". Заданы две клетки шахматной доски. Если они покрашены в один цвет, то выведите слово `YES`, а если в разные цвета, то `NO`. Программа получает на вход четыре числа, от 1 до 8 каждое, задающие номер столбца и номер строки сначала для первой клетки, потом для второй клетки."
   ]
  },
  {
   "cell_type": "code",
   "execution_count": 27,
   "metadata": {
    "scrolled": true
   },
   "outputs": [
    {
     "name": "stdout",
     "output_type": "stream",
     "text": [
      "2\n",
      "3\n",
      "7\n",
      "8\n",
      "YES\n"
     ]
    }
   ],
   "source": [
    "first_column = int(input())\n",
    "first_line = int(input())\n",
    "second_column = int(input())\n",
    "second_line = int(input())\n",
    "\n",
    "if (first_column % 2 == 0 and first_line % 2 == 0) and (second_column % 2 == 0 and second_line % 2 == 0):\n",
    "    print(\"YES\")\n",
    "elif (first_column % 2 == 0 and first_line % 2 == 0) and (second_column % 2 != 0 and second_line % 2 != 0):\n",
    "    print(\"YES\")\n",
    "elif (first_column % 2 != 0 and first_line % 2 != 0) and (second_column % 2 != 0 and second_line % 2 != 0):\n",
    "    print(\"YES\")\n",
    "elif (first_column % 2 != 0 and first_line % 2 != 0) and (second_column % 2 == 0 and second_line % 2 == 0):\n",
    "    print(\"YES\")\n",
    "elif (first_column % 2 == 0 and first_line % 2 != 0) and (second_column % 2 == 0 and second_line % 2 != 0):\n",
    "    print(\"YES\")\n",
    "elif (first_column % 2 != 0 and first_line % 2 == 0) and (second_column % 2 != 0 and second_line % 2 == 0):\n",
    "    print(\"YES\")\n",
    "elif (first_column % 2 == 0 and first_line % 2 != 0) and (second_column % 2 != 0 and second_line % 2 == 0):\n",
    "    print(\"YES\")\n",
    "elif (first_column % 2 != 0 and first_line % 2 == 0) and (second_column % 2 == 0 and second_line % 2 != 0):\n",
    "    print(\"YES\")\n",
    "else:\n",
    "    print(\"NO\")\n",
    "\n",
    "\n",
    "\n",
    "        \n"
   ]
  },
  {
   "cell_type": "markdown",
   "metadata": {},
   "source": [
    "#### 4. \"Високосный год\". Дано натуральное число. Требуется определить, является ли год с данным номером високосным. Если год является високосным, то выведите `YES`, иначе выведите `NO`. В соответствии с григорианским календарем, год является високосным, если его номер кратен 4, но не кратен 100, а также если он кратен 400."
   ]
  },
  {
   "cell_type": "code",
   "execution_count": 2,
   "metadata": {
    "scrolled": true
   },
   "outputs": [
    {
     "name": "stdout",
     "output_type": "stream",
     "text": [
      "2000\n",
      "YES\n"
     ]
    }
   ],
   "source": [
    "year = int(input())\n",
    "\n",
    "if year % 4 == 0 and year % 100 != 0:\n",
    "    print(\"YES\")\n",
    "elif year % 400 == 0:\n",
    "    print(\"YES\")\n",
    "else:\n",
    "    print(\"NO\")\n",
    "\n"
   ]
  },
  {
   "cell_type": "markdown",
   "metadata": {},
   "source": [
    "#### 5. \"Минимум из трёх чисел\". Даны три целых числа. Выведите значение наименьшего из них."
   ]
  },
  {
   "cell_type": "code",
   "execution_count": 8,
   "metadata": {},
   "outputs": [
    {
     "name": "stdout",
     "output_type": "stream",
     "text": [
      "3\n",
      "3\n",
      "5\n",
      "min number is 3\n"
     ]
    }
   ],
   "source": [
    "a = int(input())\n",
    "b = int(input())\n",
    "c = int(input())\n",
    "\n",
    "if a <= b and a <= c:\n",
    "    min_num = a\n",
    "elif b <= a and b <= c:\n",
    "    min_num = b\n",
    "else:\n",
    "    min_num = c\n",
    "print(\"min number is\", min_num)"
   ]
  },
  {
   "cell_type": "markdown",
   "metadata": {},
   "source": [
    "#### 6. \"Сколько чисел совпадает\". Даны три целых числа. Определите, сколько среди них совпадающих. Программа должна вывести одно из чисел: 3 - если все совпадают, 2 - если два свпадает, 0 - если все числа различны."
   ]
  },
  {
   "cell_type": "code",
   "execution_count": 11,
   "metadata": {},
   "outputs": [
    {
     "name": "stdout",
     "output_type": "stream",
     "text": [
      "5\n",
      "4\n",
      "2\n",
      "result: 0\n"
     ]
    }
   ],
   "source": [
    "a = int(input())\n",
    "b = int(input())\n",
    "c = int(input())\n",
    "\n",
    "if a == b == c:\n",
    "    print(\"result: 3\")\n",
    "elif a == b or a == c or b == c:\n",
    "    print(\"result: 2\")\n",
    "else:\n",
    "    print(\"result: 0\")"
   ]
  },
  {
   "cell_type": "markdown",
   "metadata": {},
   "source": [
    "#### 7. \"Ход ладьи\". Шахматная ладья ходит по горизонтали или вертикали. Даны две различные клетки шахматной доски. Определите, может ли ладья попасть с первой клетки на вторую одним ходом. Программа получает на вход четыре числа от 1 до 8 каждое, задающие номер столбца и номер строки сначала для первой клетки, потом для второй клетки. Программа должна вывести `YES`, если из первой клетки ходом ладьи можно попасть во вторую или `NO` в противном случае."
   ]
  },
  {
   "cell_type": "code",
   "execution_count": 12,
   "metadata": {},
   "outputs": [
    {
     "name": "stdout",
     "output_type": "stream",
     "text": [
      "1\n",
      "8\n",
      "8\n",
      "1\n",
      "NO\n"
     ]
    }
   ],
   "source": [
    "first_column = int(input())\n",
    "first_line = int(input())\n",
    "second_column = int(input())\n",
    "second_line = int(input())\n",
    "\n",
    "if first_column == second_column or first_line == second_line:\n",
    "    print(\"YES\")\n",
    "else:\n",
    "    print(\"NO\")"
   ]
  },
  {
   "cell_type": "markdown",
   "metadata": {},
   "source": [
    "#### 8. \"Ход короля\". Шахматный король ходит по горизонтали, вертикали и диагонали, но только на 1 клетку. Даны две различные клетки шахматной доски. Определите, может ли король попасть с первой клетки на вторую одним ходом. Программа получает на вход четыре числа от 1 до 8 каждое, задающие номер столбца и номер строки сначала для первой клетки, потом для второй клетки. Программа должна вывести `YES`, если из первой клетки ходом короля можно попасть во вторую или `NO` в противном случае."
   ]
  },
  {
   "cell_type": "code",
   "execution_count": null,
   "metadata": {},
   "outputs": [],
   "source": [
    "first_column = int(input())\n",
    "first_line = int(input())\n",
    "second_column = int(input())\n",
    "second_line = int(input())\n",
    "\n",
    "# движение по горизонтали\n",
    "if abs(first_column - second_column) == 1 and first_line - second_line == 0:\n",
    "    print(\"YES\")\n",
    "# движение по вертикали\n",
    "elif abs(first_line - second_line) == 1 and first_column - second_column == 0:\n",
    "    print(\"YES\")\n",
    "# движение по горизонтали\n",
    "elif abs(first_column - second_column) == 1 and abs(first_line - second_line) == 1:\n",
    "    print(\"YES\")\n",
    "else:\n",
    "    print(\"NO\")"
   ]
  }
 ],
 "metadata": {
  "kernelspec": {
   "display_name": "Python 3",
   "language": "python",
   "name": "python3"
  },
  "language_info": {
   "codemirror_mode": {
    "name": "ipython",
    "version": 3
   },
   "file_extension": ".py",
   "mimetype": "text/x-python",
   "name": "python",
   "nbconvert_exporter": "python",
   "pygments_lexer": "ipython3",
   "version": "3.7.4"
  }
 },
 "nbformat": 4,
 "nbformat_minor": 2
}
