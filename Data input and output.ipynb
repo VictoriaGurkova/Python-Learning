{
 "cells": [
  {
   "cell_type": "markdown",
   "metadata": {},
   "source": [
    "### Examples"
   ]
  },
  {
   "cell_type": "code",
   "execution_count": 1,
   "metadata": {},
   "outputs": [
    {
     "data": {
      "text/plain": [
       "int"
      ]
     },
     "execution_count": 1,
     "metadata": {},
     "output_type": "execute_result"
    }
   ],
   "source": [
    "a = 7\n",
    "type(a)"
   ]
  },
  {
   "cell_type": "code",
   "execution_count": 4,
   "metadata": {},
   "outputs": [
    {
     "name": "stdout",
     "output_type": "stream",
     "text": [
      "5\n",
      "7\n",
      "57\n"
     ]
    }
   ],
   "source": [
    "a = input()\n",
    "b = input()\n",
    "s = a + b\n",
    "print(s)"
   ]
  },
  {
   "cell_type": "code",
   "execution_count": 3,
   "metadata": {},
   "outputs": [
    {
     "name": "stdout",
     "output_type": "stream",
     "text": [
      "5\n",
      "7\n",
      "12\n"
     ]
    }
   ],
   "source": [
    "a = int(input())\n",
    "b = int(input())\n",
    "s = a + b\n",
    "print(s)"
   ]
  },
  {
   "cell_type": "code",
   "execution_count": 5,
   "metadata": {},
   "outputs": [
    {
     "name": "stdout",
     "output_type": "stream",
     "text": [
      "35\n"
     ]
    }
   ],
   "source": [
    "first = 5\n",
    "second = 7\n",
    "print(first * second)"
   ]
  },
  {
   "cell_type": "code",
   "execution_count": 6,
   "metadata": {},
   "outputs": [
    {
     "ename": "TypeError",
     "evalue": "can't multiply sequence by non-int of type 'str'",
     "output_type": "error",
     "traceback": [
      "\u001b[1;31m---------------------------------------------------------------------------\u001b[0m",
      "\u001b[1;31mTypeError\u001b[0m                                 Traceback (most recent call last)",
      "\u001b[1;32m<ipython-input-6-e0c8474e77cc>\u001b[0m in \u001b[0;36m<module>\u001b[1;34m\u001b[0m\n\u001b[0;32m      1\u001b[0m \u001b[0mfirst\u001b[0m \u001b[1;33m=\u001b[0m \u001b[1;34m'5'\u001b[0m\u001b[1;33m\u001b[0m\u001b[1;33m\u001b[0m\u001b[0m\n\u001b[0;32m      2\u001b[0m \u001b[0msecond\u001b[0m \u001b[1;33m=\u001b[0m \u001b[1;34m'7'\u001b[0m\u001b[1;33m\u001b[0m\u001b[1;33m\u001b[0m\u001b[0m\n\u001b[1;32m----> 3\u001b[1;33m \u001b[0mprint\u001b[0m\u001b[1;33m(\u001b[0m\u001b[0mfirst\u001b[0m \u001b[1;33m*\u001b[0m \u001b[0msecond\u001b[0m\u001b[1;33m)\u001b[0m\u001b[1;33m\u001b[0m\u001b[1;33m\u001b[0m\u001b[0m\n\u001b[0m",
      "\u001b[1;31mTypeError\u001b[0m: can't multiply sequence by non-int of type 'str'"
     ]
    }
   ],
   "source": [
    "first = '5'\n",
    "second = '7'\n",
    "print(first * second)"
   ]
  },
  {
   "cell_type": "markdown",
   "metadata": {},
   "source": [
    "### Tasks"
   ]
  },
  {
   "cell_type": "markdown",
   "metadata": {},
   "source": [
    "#### 1. \"Сумма трех чисел\". Напишите программу, которая считывает три числа и выводит их сумму."
   ]
  },
  {
   "cell_type": "code",
   "execution_count": 2,
   "metadata": {},
   "outputs": [
    {
     "name": "stdout",
     "output_type": "stream",
     "text": [
      "1\n",
      "2\n",
      "3\n",
      "result = 6\n"
     ]
    }
   ],
   "source": [
    "a = int(input())\n",
    "b = int(input())\n",
    "c = int(input())\n",
    "\n",
    "print(\"result =\", a + b + c)"
   ]
  },
  {
   "cell_type": "markdown",
   "metadata": {},
   "source": [
    "#### 2. \"Площадь прямоугольного треугольника\". Напишите программу, которая считывает длины двух катетов в прямоугольном треугольнике и выводит его площадь."
   ]
  },
  {
   "cell_type": "code",
   "execution_count": 4,
   "metadata": {},
   "outputs": [
    {
     "name": "stdout",
     "output_type": "stream",
     "text": [
      "3\n",
      "5\n",
      "area = 7.5\n"
     ]
    }
   ],
   "source": [
    "base = int(input())\n",
    "height = int(input())\n",
    "area = (base * height) / 2\n",
    "print(\"area =\", area)"
   ]
  },
  {
   "cell_type": "markdown",
   "metadata": {},
   "source": [
    "#### 3. \"Дележ яблок\". n школьников делят k яблок поровну. Неделящийся остаток остается в корзине. Сколько яблок достанется каждому школьнику? Сколько яблок останется в корзине? Программа получает на вход числа n и k и должна вывести искомое количество яблок (два числа)."
   ]
  },
  {
   "cell_type": "code",
   "execution_count": 10,
   "metadata": {},
   "outputs": [
    {
     "name": "stdout",
     "output_type": "stream",
     "text": [
      "6\n",
      "50\n",
      "each get = 8\n",
      "residue = 2\n"
     ]
    }
   ],
   "source": [
    "n = int(input())\n",
    "k = int(input())\n",
    "\n",
    "each_get = k // n\n",
    "residue = k % n\n",
    "\n",
    "print(\"each get =\", each_get)\n",
    "print(\"residue =\", residue)"
   ]
  },
  {
   "cell_type": "markdown",
   "metadata": {},
   "source": [
    "#### 4. \"Электронные часы\". Дано число n. С начала суток прошло n минут. Определите сколько часов и минут будут показывать электронные часы в этот момент. Программа должна вывести два числа: количество часов (от 0 до 23) и количество минут (от 0 до 59). Учтите, что число n может быть больше, чем количество минут в сутках."
   ]
  },
  {
   "cell_type": "code",
   "execution_count": 39,
   "metadata": {},
   "outputs": [
    {
     "name": "stdout",
     "output_type": "stream",
     "text": [
      "3456\n",
      "9 : 36\n"
     ]
    }
   ],
   "source": [
    "n = int(input())\n",
    "\n",
    "hours = n // 60\n",
    "minutes = n % 60\n",
    "\n",
    "if n // 60 == 24:\n",
    "    print(\"0 :\", minutes)\n",
    "    \n",
    "if n // 60 > 24:\n",
    "    print(int(((n / 60) / 24 - (n // 60) // 24) * 24), \":\", minutes)\n",
    "\n",
    "if n % 60 == 60:\n",
    "    print(hours + 1, \": 0\")\n",
    "\n",
    "if n // 60 < 24 and n % 60 < 60:\n",
    "    print(hours, \":\", minutes)\n"
   ]
  },
  {
   "cell_type": "markdown",
   "metadata": {},
   "source": [
    "#### 5. \"Hello, Harry!\". Напишите программу, которая приветствует пользователя, выводя слово `Hello`, введенное имя и знаки препинания по образцу: *Hello, Harry!*."
   ]
  },
  {
   "cell_type": "code",
   "execution_count": 42,
   "metadata": {},
   "outputs": [
    {
     "name": "stdout",
     "output_type": "stream",
     "text": [
      "Harry\n",
      "Hello, Harry!\n"
     ]
    }
   ],
   "source": [
    "name = input()\n",
    "\n",
    "print(\"Hello, \" + name + \"!\")"
   ]
  },
  {
   "cell_type": "markdown",
   "metadata": {},
   "source": [
    "#### 6. \"Следующее и предыдущее\". Напишите программу, которая считывает целое число и выводит текст, аналогичный приведенному в примере: *The next number for the number 1534 is 1535. The previous number for the number 1534 is 1533.* Пробелы важны."
   ]
  },
  {
   "cell_type": "code",
   "execution_count": 6,
   "metadata": {},
   "outputs": [
    {
     "name": "stdout",
     "output_type": "stream",
     "text": [
      "1\n",
      "The next number for the number 1 is 2.\n",
      "The previous number for the number 1 is 0.\n"
     ]
    }
   ],
   "source": [
    "number = int(input())\n",
    "\n",
    "next_num = number + 1\n",
    "prev_num = number - 1\n",
    "\n",
    "print(\"The next number for the number \" + str(number) + \" is\", str(next_num) + \".\")\n",
    "print(\"The previous number for the number \" + str(number) + \" is\", str(prev_num) + \".\")"
   ]
  },
  {
   "cell_type": "markdown",
   "metadata": {},
   "source": [
    "#### 7. \"Парты\". В школе решили набрать три математических класса. Так как занятия по математике у них проходят в одно и то же время, было решено выделить кабинет для каждого класса и купить в них новые парты. За каждой партой может сидеть не больше двух учеников. Известно количество учащихся в каждом из трёх классов. Сколько всего нужно закупить парт, чтобы их хватило на всех учеников? Программа получает на вход три натуральных числа: количество учащихся в каждом из трёх классов. "
   ]
  },
  {
   "cell_type": "code",
   "execution_count": 14,
   "metadata": {},
   "outputs": [
    {
     "name": "stdout",
     "output_type": "stream",
     "text": [
      "25\n",
      "21\n",
      "23\n",
      "amount of desks = 36\n"
     ]
    }
   ],
   "source": [
    "class_1 = int(input())\n",
    "class_2 = int(input())\n",
    "class_3 = int(input())\n",
    "\n",
    "if class_1 % 2 == 0:\n",
    "    desks_1 = class_1 // 2\n",
    "else:\n",
    "    desks_1 = class_1 // 2 + 1\n",
    "    \n",
    "if class_2 % 2 == 0:\n",
    "    desks_2 = class_2 // 2\n",
    "else:\n",
    "    desks_2 = class_2 // 2 + 1\n",
    "    \n",
    "if class_3 % 2 == 0:\n",
    "    desks_3 = class_3 // 2\n",
    "else:\n",
    "    desks_3 = class_3 // 2 + 1\n",
    "    \n",
    "desks = desks_1 + desks_2 + desks_3\n",
    "\n",
    "print(\"amount of desks =\", desks)\n"
   ]
  },
  {
   "cell_type": "code",
   "execution_count": 21,
   "metadata": {},
   "outputs": [
    {
     "name": "stdout",
     "output_type": "stream",
     "text": [
      "amount of desks = 36\n"
     ]
    }
   ],
   "source": [
    "classes = [25, 21, 23]\n",
    "desks = 0\n",
    "\n",
    "for class_ in range(len(classes)):\n",
    "    if classes[class_] % 2 == 0:\n",
    "        desks += classes[class_] // 2\n",
    "    else:\n",
    "        desks += classes[class_] // 2 + 1\n",
    "        \n",
    "print(\"amount of desks =\", desks)"
   ]
  },
  {
   "cell_type": "markdown",
   "metadata": {},
   "source": [
    "#### 8. \"Шнурки\". Обувная фабрика собирается выпустить элитную модель ботинок. Дырочки для шнуровки будут расположены в два ряда. Расстояние между рядами равно *a*, а расстояние между дырочками в ряду *b*. Количество дырочек в каждом ряду равно *N*. Шнуровка должна быть элитной: \"наверх, по горизнтали в другой ряд, наверх, по горизонтали и т. д.\" (см. рисунок). Кроме того, чтобы шнурки можно было завязать элитным бантиком, длина свободного шнурка должны быть *l*. Какова должна быть длина шнурка для этих ботинок?\n",
    "#### Программа получает на вход четыре натуральных числа - *a, b, l* и *N* (именно в таком порядке) и должна вывести одно число - искомую длину шнурка. "
   ]
  },
  {
   "cell_type": "code",
   "execution_count": 11,
   "metadata": {},
   "outputs": [
    {
     "name": "stdout",
     "output_type": "stream",
     "text": [
      "2\n",
      "1\n",
      "3\n",
      "4\n",
      "26\n"
     ]
    }
   ],
   "source": [
    "a = int(input())\n",
    "b = int(input())\n",
    "l = int(input())\n",
    "N = int(input())\n",
    "\n",
    "lace = a * (2 * (N - 1) + 1) + 2 * (b * (N - 1) + l)\n",
    "\n",
    "print(lace)"
   ]
  }
 ],
 "metadata": {
  "kernelspec": {
   "display_name": "Python 3",
   "language": "python",
   "name": "python3"
  },
  "language_info": {
   "codemirror_mode": {
    "name": "ipython",
    "version": 3
   },
   "file_extension": ".py",
   "mimetype": "text/x-python",
   "name": "python",
   "nbconvert_exporter": "python",
   "pygments_lexer": "ipython3",
   "version": "3.7.4"
  }
 },
 "nbformat": 4,
 "nbformat_minor": 2
}
