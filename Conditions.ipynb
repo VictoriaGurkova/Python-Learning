{
 "cells": [
  {
   "cell_type": "markdown",
   "metadata": {},
   "source": [
    "### Examples"
   ]
  },
  {
   "cell_type": "code",
   "execution_count": 3,
   "metadata": {},
   "outputs": [
    {
     "name": "stdout",
     "output_type": "stream",
     "text": [
      "-1\n",
      "1\n"
     ]
    }
   ],
   "source": [
    "# модуль числа\n",
    "x = int(input())\n",
    "\n",
    "if x > 0:\n",
    "    print(x)\n",
    "else:\n",
    "    print(-x)"
   ]
  },
  {
   "cell_type": "code",
   "execution_count": 5,
   "metadata": {},
   "outputs": [
    {
     "name": "stdout",
     "output_type": "stream",
     "text": [
      "-1\n",
      "1\n"
     ]
    }
   ],
   "source": [
    "x = int(input())\n",
    "\n",
    "if x < 0:\n",
    "    x = -x\n",
    "print(x)"
   ]
  },
  {
   "cell_type": "code",
   "execution_count": 9,
   "metadata": {},
   "outputs": [
    {
     "name": "stdout",
     "output_type": "stream",
     "text": [
      "-1\n",
      "1\n",
      "Second quarter\n"
     ]
    }
   ],
   "source": [
    "# определение четверти, в которой находится точка на координатной плоскости\n",
    "x = int(input())\n",
    "y = int(input())\n",
    "\n",
    "if x > 0:\n",
    "    if y > 0:\n",
    "        print(\"First quarter\")\n",
    "    else:\n",
    "        print(\"Fourth quarter\")\n",
    "else:\n",
    "    if y > 0:\n",
    "        print(\"Second quarter\")\n",
    "    else:\n",
    "        print(\"Third quarter\")"
   ]
  },
  {
   "cell_type": "code",
   "execution_count": 13,
   "metadata": {},
   "outputs": [
    {
     "name": "stdout",
     "output_type": "stream",
     "text": [
      "-1\n",
      "1\n",
      "Second quarter\n"
     ]
    }
   ],
   "source": [
    "x = int(input())\n",
    "y = int(input())\n",
    "\n",
    "if x > 0 and y > 0:\n",
    "    print(\"First quarter\")\n",
    "elif x > 0 and y < 0:\n",
    "    print(\"Fourth quarter\")\n",
    "elif y > 0:\n",
    "    print(\"Second quarter\")\n",
    "else:\n",
    "    print(\"Third quarter\")"
   ]
  },
  {
   "cell_type": "markdown",
   "metadata": {},
   "source": [
    "### Tasks\n"
   ]
  },
  {
   "cell_type": "markdown",
   "metadata": {},
   "source": [
    "#### 1. \"Минимум из двух чисел\". Даны два целых числа. Выведите значение наименьшего из них."
   ]
  },
  {
   "cell_type": "code",
   "execution_count": 16,
   "metadata": {},
   "outputs": [
    {
     "name": "stdout",
     "output_type": "stream",
     "text": [
      "3\n",
      "7\n",
      "Smallest number is 3\n"
     ]
    }
   ],
   "source": [
    "a = int(input())\n",
    "b = int(input())\n",
    "\n",
    "if a < b:\n",
    "    print(\"Smallest number is\", a)\n",
    "else:\n",
    "    print(\"Smallest number is\", b)"
   ]
  },
  {
   "cell_type": "markdown",
   "metadata": {},
   "source": [
    "#### 2. \"Знак числа\". Для данного числа x выведите значение `sign(x)`. Эту задачу желательно решить с использованием каскадных инструкций `if...elif...else`."
   ]
  },
  {
   "cell_type": "code",
   "execution_count": 22,
   "metadata": {},
   "outputs": [
    {
     "name": "stdout",
     "output_type": "stream",
     "text": [
      "-5\n",
      "sign x = -1\n"
     ]
    }
   ],
   "source": [
    "x = int(input())\n",
    "\n",
    "if x > 0:\n",
    "    print(\"sign x =\", 1)\n",
    "elif x < 0:\n",
    "    print(\"sign x =\", -1)\n",
    "else:\n",
    "    print(\"sign x =\", 0)"
   ]
  },
  {
   "cell_type": "markdown",
   "metadata": {},
   "source": [
    "#### 3. \"Шахматная доска\". Заданы две клетки шахматной доски. Если они покрашены в один цвет, то выведите слово `YES`, а если в разные цвета, то `NO`. Программа получает на вход четыре числа, от 1 до 8 каждое, задающие номер столбца и номер строки сначала для первой клетки, потом для второй клетки."
   ]
  },
  {
   "cell_type": "code",
   "execution_count": 27,
   "metadata": {},
   "outputs": [
    {
     "name": "stdout",
     "output_type": "stream",
     "text": [
      "2\n",
      "3\n",
      "7\n",
      "8\n",
      "YES\n"
     ]
    }
   ],
   "source": [
    "first_column = int(input())\n",
    "first_line = int(input())\n",
    "second_column = int(input())\n",
    "second_line = int(input())\n",
    "\n",
    "if (first_column % 2 == 0 and first_line % 2 == 0) and (second_column % 2 == 0 and second_line % 2 == 0):\n",
    "    print(\"YES\")\n",
    "elif (first_column % 2 == 0 and first_line % 2 == 0) and (second_column % 2 != 0 and second_line % 2 != 0):\n",
    "    print(\"YES\")\n",
    "elif (first_column % 2 != 0 and first_line % 2 != 0) and (second_column % 2 != 0 and second_line % 2 != 0):\n",
    "    print(\"YES\")\n",
    "elif (first_column % 2 != 0 and first_line % 2 != 0) and (second_column % 2 == 0 and second_line % 2 == 0):\n",
    "    print(\"YES\")\n",
    "elif (first_column % 2 == 0 and first_line % 2 != 0) and (second_column % 2 == 0 and second_line % 2 != 0):\n",
    "    print(\"YES\")\n",
    "elif (first_column % 2 != 0 and first_line % 2 == 0) and (second_column % 2 != 0 and second_line % 2 == 0):\n",
    "    print(\"YES\")\n",
    "elif (first_column % 2 == 0 and first_line % 2 != 0) and (second_column % 2 != 0 and second_line % 2 == 0):\n",
    "    print(\"YES\")\n",
    "elif (first_column % 2 != 0 and first_line % 2 == 0) and (second_column % 2 == 0 and second_line % 2 != 0):\n",
    "    print(\"YES\")\n",
    "else:\n",
    "    print(\"NO\")\n",
    "\n",
    "\n",
    "\n",
    "        \n"
   ]
  }
 ],
 "metadata": {
  "kernelspec": {
   "display_name": "Python 3",
   "language": "python",
   "name": "python3"
  },
  "language_info": {
   "codemirror_mode": {
    "name": "ipython",
    "version": 3
   },
   "file_extension": ".py",
   "mimetype": "text/x-python",
   "name": "python",
   "nbconvert_exporter": "python",
   "pygments_lexer": "ipython3",
   "version": "3.7.4"
  }
 },
 "nbformat": 4,
 "nbformat_minor": 2
}
